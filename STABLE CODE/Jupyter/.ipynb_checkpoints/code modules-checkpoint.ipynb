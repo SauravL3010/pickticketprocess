{
 "cells": [
  {
   "cell_type": "code",
   "execution_count": 480,
   "metadata": {},
   "outputs": [
    {
     "name": "stdout",
     "output_type": "stream",
     "text": [
      "Hello, World!\n"
     ]
    }
   ],
   "source": [
    "# import json\n",
    "\n",
    "# jsonfile = {}\n",
    "\n",
    "# jsonObject = json.dumps(jsonfile, indent=4)\n",
    "\n",
    "# with open('ALL_SHIP_VIA.json', 'w') as outfile:  \n",
    "#     outfile.write(jsonObject)"
   ]
  },
  {
   "cell_type": "code",
   "execution_count": 481,
   "metadata": {},
   "outputs": [
    {
     "name": "stdout",
     "output_type": "stream",
     "text": [
      "Hello, World!\n"
     ]
    }
   ],
   "source": [
    "# with open('testfile.json', 'r') as file:\n",
    "#     data = json.load(file)\n",
    "#     data[\"add\"] = {}\n"
   ]
  },
  {
   "cell_type": "code",
   "execution_count": 482,
   "metadata": {},
   "outputs": [],
   "source": [
    "# with open('ALL_SHIP_VIA.json', 'w') as file:\n",
    "#     json.dump(data, file, indent=4)"
   ]
  },
  {
   "cell_type": "code",
   "execution_count": 483,
   "metadata": {},
   "outputs": [],
   "source": [
    "# #To Append Each Time to {}\n",
    "# \"ordrNo\" : {\n",
    "#     \"dateReceived\" : None,\n",
    "#     \"pages\" : None,\n",
    "#     \"originalPrint\" : None,\n",
    "#     \"reprintDate\" : None,\n",
    "#     \"emailAttachment\" : None,\n",
    "# }"
   ]
  },
  {
   "cell_type": "code",
   "execution_count": 484,
   "metadata": {},
   "outputs": [],
   "source": [
    "import json \n",
    "\n",
    "def load_json(file_name):\n",
    "    '''\n",
    "    file_name = .json file\n",
    "    '''\n",
    "    with open(file_name, 'r') as read_file:\n",
    "        loaded_data = json.load(read_file) # load master data\n",
    "    return loaded_data\n",
    "\n",
    "def add_to_json(file_name, key, value):\n",
    "    '''\n",
    "    file_name = .json file\n",
    "    key = \"order_no\" of the target file\n",
    "    value = {\n",
    "                    \"dateReceived\" : None,\n",
    "                    \"originalPrint\" : None,\n",
    "                    \"reprintDate\" : None,\n",
    "                    \"emailAttachment\" : None,\n",
    "                    \"fileDirectory\" : None,\n",
    "                    \"status\" : None,\n",
    "                    \"isExcelUpdated\" : None\n",
    "            }\n",
    "    \n",
    "    1) open json file, load data, append new data\n",
    "    2) open json file, dump/save the same data to json\n",
    "    \n",
    "    difference 'r' and 'w'\n",
    "    \n",
    "    data structure to add to dictionary: \n",
    "    \"ordrNo\" : {\n",
    "                    \"dateReceived\" : None,\n",
    "                    \"originalPrint\" : None,\n",
    "                    \"reprintDate\" : None,\n",
    "                    \"emailAttachment\" : None,\n",
    "                    \"fileDirectory\" : None,\n",
    "                    \"status\" : None,\n",
    "                    \"isExcelUpdated\" : None\n",
    "                }\n",
    "    \"ordrNo_reprint\": {\n",
    "                    \"dateReceived\" : None,\n",
    "                    \"originalPrint\" : None,\n",
    "                    \"reprintDate\" : None,\n",
    "                    \"emailAttachment\" : None,\n",
    "                    \"fileDirectory\" : None,\n",
    "                    \"status\" : None,\n",
    "                    \"isExcelUpdated\" : None\n",
    "                }\n",
    "    '''\n",
    "    with open(file_name, 'r') as read_file:\n",
    "        loaded_data = json.load(read_file) # load master data\n",
    "        loaded_data[key] = value # append to master data\n",
    "    \n",
    "    with open(file_name, 'w') as write_file:\n",
    "        json.dump(loaded_data, write_file, indent=4)\n",
    "        \n",
    "def update_values(file_name, key, update_key, value):\n",
    "    '''\n",
    "    file_name = .json file\n",
    "    key = to find \"order_no\" in hashable dict\n",
    "    update_key = from one of [\"dateReceived\",\n",
    "                    \"originalPrint\",\n",
    "                    \"reprintDate\",\n",
    "                    \"emailAttachment\",\n",
    "                    \"fileDirectory\",\n",
    "                    \"status\",\n",
    "                    \"isExcelUpdated\"], also used to add new (k, v) pairs within key \n",
    "    value = update value in (update_key, value) pair\n",
    "    '''\n",
    "    with open(file_name, 'r') as read_file:\n",
    "        loaded_data = json.load(read_file) # load master data\n",
    "        loaded_data[key][update_key] = value # append to master data\n",
    "    \n",
    "    with open(file_name, 'w') as write_file:\n",
    "        json.dump(loaded_data, write_file, indent=4)"
   ]
  },
  {
   "cell_type": "code",
   "execution_count": null,
   "metadata": {},
   "outputs": [],
   "source": []
  },
  {
   "cell_type": "code",
   "execution_count": null,
   "metadata": {},
   "outputs": [],
   "source": []
  },
  {
   "cell_type": "code",
   "execution_count": null,
   "metadata": {},
   "outputs": [],
   "source": []
  },
  {
   "cell_type": "code",
   "execution_count": null,
   "metadata": {},
   "outputs": [],
   "source": []
  },
  {
   "cell_type": "code",
   "execution_count": 485,
   "metadata": {},
   "outputs": [],
   "source": [
    "from datetime import date\n",
    "import os\n",
    "\n",
    "def paths(root_path):\n",
    "    '''\n",
    "    root_path = takes in path where email_attachments are saved (must be r'str')\n",
    "    \n",
    "    all_paths = {} is a dictionary to all required directories \n",
    "    '''\n",
    "    today = date.today()\n",
    "\n",
    "    pick_ticket_path = root_path + '\\\\master_pick_tickets'\n",
    "    email_archive = root_path + '\\\\email_archive'\n",
    "\n",
    "    all_paths = {\n",
    "        'root_path' : root_path,\n",
    "        'pick_ticket_path' : pick_ticket_path,\n",
    "        'email_archive' : email_archive,\n",
    "    }\n",
    "    return all_paths\n",
    "\n",
    "\n",
    "\n",
    "def create_directory(path):\n",
    "    '''\n",
    "    path = directory to create (must be r'str')\n",
    "    '''\n",
    "    try:\n",
    "        os.mkdir(path)\n",
    "    except OSError:\n",
    "        print (\"Creation of the directory %s failed\" % path)\n",
    "        \n",
    "\n",
    "\n",
    "def enter_directory(path):\n",
    "    '''\n",
    "    path = directory to enter(must be r'str')\n",
    "    '''\n",
    "    try: \n",
    "        os.chdir(path)\n",
    "    except OSError:       \n",
    "        print(\"Entering the directory %s failed\" % path)\n",
    "        \n",
    "        \n",
    "        \n",
    "def verify_directory(path):\n",
    "    '''\n",
    "    path = directory to verify (must be r'str')\n",
    "    '''\n",
    "    return os.path.exists(path)\n",
    "\n",
    "\n",
    "\n",
    "def move_files(src, dst):\n",
    "    '''\n",
    "    src = path to file (.pdf)\n",
    "    dst = new path to file (.pdf)\n",
    "    '''\n",
    "    try:\n",
    "        os.replace(src, dst)\n",
    "    except:\n",
    "        os.rename(src, dst)"
   ]
  },
  {
   "cell_type": "code",
   "execution_count": 486,
   "metadata": {},
   "outputs": [],
   "source": [
    "import glob\n",
    "import os\n",
    "\n",
    "def list_of_files(path, file_ending='*.pdf'):\n",
    "    '''\n",
    "    path = directory of files\n",
    "    file_ending = type of files (default = \".pdf\")\n",
    "    '''\n",
    "    return glob.glob(os.path.join(path, file_ending))"
   ]
  },
  {
   "cell_type": "code",
   "execution_count": null,
   "metadata": {},
   "outputs": [],
   "source": []
  },
  {
   "cell_type": "code",
   "execution_count": 487,
   "metadata": {},
   "outputs": [
    {
     "name": "stdout",
     "output_type": "stream",
     "text": [
      "Hello, World!\n",
      "Hello, World!\n",
      "Hello, World!\n",
      "Hello, World!\n"
     ]
    }
   ],
   "source": [
    "from PyPDF2 import PdfFileWriter, PdfFileReader\n",
    "\n",
    "def read_file(file, json_data, jsonfile, extraction_info, move_to):\n",
    "    '''\n",
    "    file = emailed file (mail%^**&^%.pdy)\n",
    "    json_data = loaded json data (load everytime before calling this function)\n",
    "    jsonfile = main json file (\"master_pick_tickets.json\")\n",
    "    \n",
    "    orders_dict = tracks the indices of page(s) this function has to extract from file\n",
    "    json_dict_to_add = for each file json data for all picktickets is loaded only once and then appended to jsonfile\n",
    "    \n",
    "    data extracted form each page:\n",
    "    {\n",
    "        originalPrint, \n",
    "        reprintDate, \n",
    "        dateReceived, \n",
    "        emailAttachment, \n",
    "        shipTo, \n",
    "        via, \n",
    "        fileDirectory, \n",
    "        status = \"Just Received\", \n",
    "        shippedDate = None,\n",
    "        billedDate = None,\n",
    "        isExcelUpdated = False\n",
    "        isShippedExcelUpdated = False,\n",
    "        isBilledExcelUpdated = False,\n",
    "    }\n",
    "    \n",
    "    if order_no already exists in previous email attachment, then \"_reprint\" is appended to order_no (\"7182345-00_reprint\")\n",
    "    '''\n",
    "    orders_dict = {}\n",
    "    json_dict_to_add = {}\n",
    "    with open(file, 'rb') as readfile:\n",
    "        input_file = PdfFileReader(readfile)\n",
    "        pages = input_file.numPages\n",
    "\n",
    "        \n",
    "        for page in range(pages):\n",
    "            file_writer = PdfFileWriter()\n",
    "            get_page = input_file.getPage(page)\n",
    "            \n",
    "            reprintDate = None\n",
    "            master_text = get_page.extractText()\n",
    "            narrowed_text = find_pattern(r'Order(.*)FOB', master_text)\n",
    "            \n",
    "            order_no = find_pattern(r'(\\d{4,7})[-](\\d{2})', narrowed_text)\n",
    "            originalPrint = True\n",
    "            if if_order_as_originalPrint(order_no, json_data):\n",
    "                order_no = if_order_exists_return_renamed(order_no, json_data)\n",
    "                reprint_dates(order_no, jsonfile, json_dict_to_add, json_data)\n",
    "                originalPrint = False\n",
    "            \n",
    "            dateReceived = str(datetime.now())\n",
    "            emailAttachment = move_to\n",
    "            \n",
    "            shipTo = find_pattern(r\"ShipTo(.*)Order\", master_text)[8:].split(\" \")[:3]\n",
    "            shipTo = \" \".join(shipTo)\n",
    "            \n",
    "            via = ship_via(\"ALL_SHIP_VIA.json\", narrowed_text)\n",
    "            \n",
    "            fileDirectory = os.getcwd() + rf\"\\{order_no}.pdf\"\n",
    "            \n",
    "            try:\n",
    "                orders_dict[order_no].append(page)\n",
    "            except:\n",
    "                orders_dict[order_no] = []\n",
    "                orders_dict[order_no].append(page)\n",
    "            \n",
    "            for each_page in orders_dict[order_no]:\n",
    "                file_writer.addPage(input_file.getPage(each_page))\n",
    "                \n",
    "            with open(f\"{order_no}.pdf\", \"wb\") as f:\n",
    "                file_writer.write(f)\n",
    "                f.close()\n",
    "                \n",
    "            ######## Adding data\n",
    "            try:\n",
    "                json_dict_to_add[order_no] = append_data(originalPrint, \n",
    "                                                         reprintDate, \n",
    "                                                         dateReceived, \n",
    "                                                         emailAttachment, \n",
    "                                                         shipTo, \n",
    "                                                         via,\n",
    "                                                        fileDirectory)\n",
    "            except:\n",
    "                print(\"could not add data\")\n",
    "                \n",
    "        for k, v in json_dict_to_add.items():\n",
    "            add_to_json(jsonfile, k, v)\n",
    "            \n",
    "        prettyInfo(file, pages, extraction_info)"
   ]
  },
  {
   "cell_type": "code",
   "execution_count": 488,
   "metadata": {},
   "outputs": [],
   "source": [
    "# if order no ['original_print'] == True:\n",
    "# add \"_reprint\"\n",
    "from datetime import datetime\n",
    "\n",
    "\n",
    "def reprint_dates(order_no, jsonfile, json_dict_to_verify, json_data):\n",
    "    '''\n",
    "    order_no = OrderNo from pickticket\n",
    "    jsonfile = main json file (\"master_pick_tickets.json\")\n",
    "    json_dict_to_verify = \"json_dict_to_add\" in read_file()\n",
    "    json_data = loaded json data (load everytime before calling \"read_file\" function)\n",
    "    '''\n",
    "    target = json_data[order_no[:10]]['reprintDate']\n",
    "    if not order_no in json_dict_to_verify:\n",
    "        try:\n",
    "            target.append(str(datetime.now()))\n",
    "        except:\n",
    "            target = []\n",
    "            target.append(str(datetime.now()))\n",
    "        update_values(jsonfile, order_no[:10], \"reprintDate\", target)\n",
    "        \n",
    "    \n",
    "\n",
    "def if_order_as_originalPrint(order_no, json_data):\n",
    "    '''\n",
    "    order_no = OrderNo from pickticket\n",
    "    json_data = loaded json data (load everytime before calling \"read_file()\" function)\n",
    "    '''\n",
    "    if order_no in json_data:\n",
    "        return json_data[order_no][\"originalPrint\"]\n",
    "\n",
    "def if_order_exists_return_renamed(order_no, json_data):\n",
    "    '''\n",
    "    order_no = OrderNo from pickticket\n",
    "    json_data = loaded json data (load everytime before calling \"read_file()\" function)\n",
    "    '''\n",
    "    while order_no in json_data:\n",
    "        order_no = order_no + \"_reprint\"\n",
    "    return order_no \n",
    "\n",
    "def append_data(originalPrint, reprintDate, dateReceived, \n",
    "                emailAttachment, shipTo, via, fileDirectory, \n",
    "                status=\"Just Received\", shippedDate=None, billedDate=None, \n",
    "                isExcelUpdated=False, isShippedExcelUpdated=False, isBilledExcelUpdated=False):\n",
    "    '''\n",
    "    all mandatory data\n",
    "    '''\n",
    "    return_dict = {\n",
    "                    \"dateReceived\" : dateReceived,\n",
    "                    \"originalPrint\" : originalPrint,\n",
    "                    \"reprintDate\" : reprintDate,\n",
    "                    \"emailAttachment\" : emailAttachment,\n",
    "                    \"shipTo\" : shipTo,\n",
    "                    \"via\": via,\n",
    "                    \"fileDirectory\" : fileDirectory,\n",
    "                    \"status\" : status,\n",
    "                    \"shippedDate\" : shippedDate,\n",
    "                    \"billedDate\" : billedDate,\n",
    "                    \"isExcelUpdated\" : isExcelUpdated,\n",
    "                    \"isShippedExcelUpdated\" : isShippedExcelUpdated,\n",
    "                    \"isBilledExcelUpdated\" : isBilledExcelUpdated,\n",
    "                    }\n",
    "    return return_dict\n",
    "\n",
    "def ship_via(jsonfile, narrowed_text):\n",
    "    '''\n",
    "    jsonfile = main json file (\"ALL_SHIP_VIA.json\")\n",
    "    narrowed_text = is narrowed_text in read_file() function\n",
    "    \n",
    "    matches \"via\" with SX data for \"ship via\"\n",
    "    '''\n",
    "    via_json = load_json(jsonfile)\n",
    "    via_return = \"NOT FOUND\"\n",
    "    for via_name in via_json[\"Signode_Ship_Via\"]:\n",
    "        if via_name in narrowed_text:\n",
    "            via_return = via_name\n",
    "    return via_return"
   ]
  },
  {
   "cell_type": "code",
   "execution_count": 489,
   "metadata": {},
   "outputs": [
    {
     "name": "stdout",
     "output_type": "stream",
     "text": [
      "Hello, World!\n",
      "Hello, World!\n",
      "Hello, World!\n"
     ]
    }
   ],
   "source": [
    "try:\n",
    "    import re2 as re\n",
    "except ImportError:\n",
    "    import re\n",
    "\n",
    "def find_pattern(pattern_to_search_for, data):\n",
    "    '''\n",
    "    pattern_to_search_for = pattern match (must be r'str') \n",
    "    data = find pattern in data\n",
    "    '''\n",
    "    pattern = re.compile(pattern_to_search_for)\n",
    "    pattern_matches = pattern.finditer(data)\n",
    "    initial_match = [match for match in pattern_matches]\n",
    "    return initial_match[0].group(0)"
   ]
  },
  {
   "cell_type": "code",
   "execution_count": null,
   "metadata": {},
   "outputs": [],
   "source": []
  },
  {
   "cell_type": "code",
   "execution_count": 490,
   "metadata": {},
   "outputs": [
    {
     "name": "stdout",
     "output_type": "stream",
     "text": [
      "Hello, World!\n"
     ]
    }
   ],
   "source": [
    "from prettytable import PrettyTable\n",
    "\n",
    "def table():\n",
    "    extraction_info = PrettyTable()\n",
    "    extraction_info.field_names = [\"pdf file name\", \"num of pages extracted\"]\n",
    "    return extraction_info\n",
    "\n",
    "def prettyInfo(file, pages, extraction_info):\n",
    "    '''\n",
    "    file = emailed file (mail%^**&^%.pdy)\n",
    "    pages = pages in file\n",
    "    '''\n",
    "    extraction_info.add_row([os.path.basename(file), pages])\n",
    "    \n",
    "def print_to_console(extraction_info):\n",
    "    '''\n",
    "    info = extraction_info\n",
    "    '''\n",
    "    print(extraction_info)"
   ]
  },
  {
   "cell_type": "code",
   "execution_count": 491,
   "metadata": {},
   "outputs": [],
   "source": [
    "# import pandas as pd\n",
    "# os.chdir(r\"C:\\Users\\0235124\\OneDrive - University of Waterloo\\Desktop\\signodeProjects\\pdfParse\\pyPDF2\\python_code\\STABLE CODE\\Jupyter\")\n",
    "\n",
    "# df = pd.read_json(\"testfile.json\")\n",
    "# df = df.transpose()\n",
    "# df.to_excel(\"op1.xlsx\")\n"
   ]
  },
  {
   "cell_type": "code",
   "execution_count": 492,
   "metadata": {},
   "outputs": [
    {
     "name": "stdout",
     "output_type": "stream",
     "text": [
      "Hello, World!\n",
      "Hello, World!\n",
      "Hello, World!\n",
      "Hello, World!\n"
     ]
    }
   ],
   "source": [
    "# from openpyxl import Workbook\n",
    "\n",
    "# os.chdir(r\"C:\\Users\\0235124\\OneDrive - University of Waterloo\\Desktop\\signodeProjects\\pdfParse\\pyPDF2\\python_code\\STABLE CODE\\Jupyter\")\n",
    "\n",
    "# workbook = Workbook()\n",
    "# sheet = workbook.active\n",
    "\n",
    "# sheet[\"A1\"] = \"hello\"\n",
    "# sheet[\"B1\"] = \"world!\"\n",
    "\n",
    "# workbook.save(filename=\"hello_world.xlsx\")\n"
   ]
  },
  {
   "cell_type": "code",
   "execution_count": 257,
   "metadata": {},
   "outputs": [],
   "source": [
    "# from .json import load_json, add_to_json, update_values \n",
    "# from .path import paths, create_directory, enter_directory, verify_directory, move_files\n",
    "# from .algorithm import read_file\n",
    "# from .algoHelpers import reprint_dates, if_order_as_originalPrint, if_order_exists_return_renamed, append_data, ship_via\n",
    "# from .pattern import find_pattern\n",
    "# from .prettytable import prettyInfo, print_to_console\n",
    "# from allFiles import list_of_files"
   ]
  },
  {
   "cell_type": "code",
   "execution_count": null,
   "metadata": {},
   "outputs": [],
   "source": []
  },
  {
   "cell_type": "code",
   "execution_count": 493,
   "metadata": {},
   "outputs": [
    {
     "name": "stdout",
     "output_type": "stream",
     "text": [
      "+---------------+------------------------+\n",
      "| pdf file name | num of pages extracted |\n",
      "+---------------+------------------------+\n",
      "+---------------+------------------------+\n"
     ]
    }
   ],
   "source": [
    "temp_path = paths(r\"C:\\Users\\0235124\\OneDrive - University of Waterloo\\Desktop\\signodeProjects\\pdfParse\\pyPDF2\\python_code\\STABLE CODE\\test\")\n",
    "code_path = r\"C:\\Users\\0235124\\OneDrive - University of Waterloo\\Desktop\\signodeProjects\\pdfParse\\pyPDF2\\python_code\\STABLE CODE\\main\"\n",
    "\n",
    "if os.getcwd() != temp_path[\"root_path\"]:\n",
    "    enter_directory(temp_path[\"root_path\"])\n",
    "\n",
    "if not (verify_directory(temp_path[\"pick_ticket_path\"]) and verify_directory(temp_path[\"email_archive\"])):\n",
    "    create_directory(temp_path[\"pick_ticket_path\"])\n",
    "    create_directory(temp_path[\"email_archive\"])\n",
    "    \n",
    "extraction_info = table()\n",
    "\n",
    "jsonfile = r\"C:\\Users\\0235124\\OneDrive - University of Waterloo\\Desktop\\signodeProjects\\pdfParse\\pyPDF2\\python_code\\STABLE CODE\\test\\master_pick_tickets\\master_pick_tickets.json\"\n",
    "\n",
    "all_files = list_of_files(temp_path[\"root_path\"])\n",
    "\n",
    "for file in all_files:\n",
    "    json_data = load_json(jsonfile)\n",
    "    move_to = temp_path[\"email_archive\"] + rf\"\\{os.path.basename(file)}\"\n",
    "    \n",
    "    if os.getcwd() != temp_path[\"pick_ticket_path\"]:\n",
    "        enter_directory(temp_path[\"pick_ticket_path\"])\n",
    "        \n",
    "    read_file(file, json_data, jsonfile, extraction_info, move_to)\n",
    "    \n",
    "    if os.getcwd() != temp_path[\"root_path\"]:\n",
    "        enter_directory(temp_path[\"root_path\"])\n",
    "    \n",
    "    move_files(file, move_to)\n",
    "    \n",
    "print_to_console(extraction_info)\n",
    "\n",
    "\n",
    "if os.getcwd() != code_path:\n",
    "    enter_directory(code_path)"
   ]
  },
  {
   "cell_type": "code",
   "execution_count": 494,
   "metadata": {},
   "outputs": [],
   "source": [
    "# temp_path = paths(r\"C:\\Users\\0235124\\OneDrive - University of Waterloo\\Desktop\\signodeProjects\\pdfParse\\pyPDF2\\python_code\\STABLE CODE\\test\")\n",
    "# print(temp_path)"
   ]
  },
  {
   "cell_type": "code",
   "execution_count": null,
   "metadata": {},
   "outputs": [],
   "source": []
  },
  {
   "cell_type": "code",
   "execution_count": 495,
   "metadata": {},
   "outputs": [
    {
     "name": "stdout",
     "output_type": "stream",
     "text": [
      "Hello, World!\n",
      "Hello, World!\n",
      "Hello, World!\n",
      "Hello, World!\n"
     ]
    }
   ],
   "source": [
    "# import win32com.client as win\n",
    "\n",
    "# def get_exl_app():\n",
    "#     active_exl = win.GetActiveObject('Excel.Application')\n",
    "#     return active_exl\n",
    "\n",
    "# def dict_of_wrbk(c=0):\n",
    "#     return_dict = {}\n",
    "#     active_wrbk = get_exl_app().Workbooks\n",
    "#     while True:\n",
    "#         try:\n",
    "#             return_dict[active_wrbk[c].Name] = c\n",
    "#             c += 1\n",
    "#         except IndexError:\n",
    "#             break\n",
    "#     return return_dict\n",
    "\n",
    "# def get_active_exl(active_exl):\n",
    "#     if active_exl in dict_of_wrbk():\n",
    "#         return dict_of_wrbk()[active_exl]\n",
    "\n",
    "# def get_active_sht(active_sht):\n",
    "#     active_sht = get_exl_app().Workbooks()\n",
    "#     return active_wrksht\n",
    "\n",
    "\n",
    "# def lst_unupdated_exl(json_data):\n",
    "#     list_return = []\n",
    "#     for k, v in json_data.items():\n",
    "#         if v[\"isExcelUpdated\"] == False:\n",
    "#             list_return.append(k)\n",
    "#     return list_return\n",
    "\n",
    "# def return_emty_cell(c=2):\n",
    "#     while active_wrksht.Range(f\"{temp_dict['orderNo']}{c}\").Value != 0:\n",
    "#         update_values(file_name, \n",
    "#                       active_wrksht.Range(f\"{temp_dict['orderNo']}{c}\").Value, \n",
    "#                       \"status\", \n",
    "#                       active_wrksht.Range(f\"{temp_dict['status']}{c}\").Value)\n",
    "#         c += 1\n",
    "#     return c\n",
    "\n",
    "# def fill_cell(temp_lst, temp_dict, c):\n",
    "#     for i in temp_lst[1:]:\n",
    "#         try:\n",
    "#             active_wrksht.Range(f\"{temp_dict[i]}{c}\").Value = temp_json[order][i]\n",
    "#         except:\n",
    "#             if i == \"friendly_name\":\n",
    "#                 active_wrksht.Range(f\"{temp_dict[i]}{c}\").Value = order\n",
    "#             elif i == \"rePrint\":\n",
    "#                 active_wrksht.Range(f\"{temp_dict[i]}{c}\").Value = temp_json[order][\"reprintDate\"]"
   ]
  },
  {
   "cell_type": "code",
   "execution_count": null,
   "metadata": {},
   "outputs": [],
   "source": []
  },
  {
   "cell_type": "code",
   "execution_count": null,
   "metadata": {},
   "outputs": [],
   "source": []
  },
  {
   "cell_type": "code",
   "execution_count": null,
   "metadata": {},
   "outputs": [],
   "source": []
  },
  {
   "cell_type": "code",
   "execution_count": 496,
   "metadata": {},
   "outputs": [],
   "source": [
    "# def lst_unupdated_exl(json_data):\n",
    "#     list_return = []\n",
    "#     for k, v in json_data.items():\n",
    "#         if v[\"isExcelUpdated\"] == False:\n",
    "#             list_return.append(k)\n",
    "#     return list_return"
   ]
  },
  {
   "cell_type": "code",
   "execution_count": 497,
   "metadata": {},
   "outputs": [],
   "source": [
    "# c = 2\n",
    "# while active_wrksht.Range(f\"{temp_dict['orderNo']}{c}\").Value != 0:\n",
    "#     update_values(file_name, \n",
    "#                   active_wrksht.Range(f\"{temp_dict['orderNo']}{c}\").Value, \n",
    "#                   \"status\", \n",
    "#                   active_wrksht.Range(f\"{temp_dict['status']}{c}\").Value)\n",
    "#     c += 1\n",
    "# else:\n",
    "#     for order in lst_unupdated_exl(temp_json):\n",
    "#         update_values(file_name, order, \"isExcelUpdated\", True)\n",
    "#         for i in temp_lst[1:]:\n",
    "#             try:\n",
    "#                 active_wrksht.Range(f\"{temp_dict[i]}{c}\").Value = temp_json[order][i]\n",
    "#             except:\n",
    "#                 if i == \"friendly_name\":\n",
    "#                     active_wrksht.Range(f\"{temp_dict[i]}{c}\").Value = order\n",
    "#                 elif i == \"rePrint\":\n",
    "#                     active_wrksht.Range(f\"{temp_dict[i]}{c}\").Value = temp_json[order][\"reprintDate\"]\n",
    "#         c += 1"
   ]
  },
  {
   "cell_type": "code",
   "execution_count": null,
   "metadata": {},
   "outputs": [],
   "source": []
  },
  {
   "cell_type": "code",
   "execution_count": 498,
   "metadata": {},
   "outputs": [],
   "source": [
    "# active_wrksht.Range(\"I2\").Value = str(len(temp_json[\"7182119-00\"][\"reprintDate\"]))"
   ]
  },
  {
   "cell_type": "code",
   "execution_count": 499,
   "metadata": {},
   "outputs": [],
   "source": [
    "# temp_json[\"7182119-00\"][\"reprintDate\"]"
   ]
  },
  {
   "cell_type": "code",
   "execution_count": 500,
   "metadata": {},
   "outputs": [],
   "source": [
    "# print(type(str(len(temp_json[\"7182119-00\"][\"reprintDate\"]))))"
   ]
  },
  {
   "cell_type": "code",
   "execution_count": 501,
   "metadata": {},
   "outputs": [
    {
     "name": "stdout",
     "output_type": "stream",
     "text": [
      "Hello, World!\n",
      "Hello, World!\n",
      "Hello, World!\n"
     ]
    }
   ],
   "source": [
    "# lest = \"7182345-00_reprint_reprint\"\n",
    "# lest.split('_')"
   ]
  },
  {
   "cell_type": "code",
   "execution_count": null,
   "metadata": {},
   "outputs": [],
   "source": []
  },
  {
   "cell_type": "code",
   "execution_count": null,
   "metadata": {},
   "outputs": [],
   "source": []
  },
  {
   "cell_type": "code",
   "execution_count": null,
   "metadata": {},
   "outputs": [],
   "source": []
  },
  {
   "cell_type": "code",
   "execution_count": 502,
   "metadata": {},
   "outputs": [
    {
     "name": "stdout",
     "output_type": "stream",
     "text": [
      "Hello, World!\n"
     ]
    }
   ],
   "source": [
    "# lst_of_active_exl()"
   ]
  },
  {
   "cell_type": "code",
   "execution_count": 503,
   "metadata": {},
   "outputs": [
    {
     "name": "stdout",
     "output_type": "stream",
     "text": [
      "Hello, World!\n"
     ]
    }
   ],
   "source": [
    "# get_exl_app().Workbooks[0].Name"
   ]
  },
  {
   "cell_type": "code",
   "execution_count": 504,
   "metadata": {},
   "outputs": [
    {
     "name": "stdout",
     "output_type": "stream",
     "text": [
      "Hello, World!\n",
      "Hello, World!\n",
      "Hello, World!\n"
     ]
    }
   ],
   "source": [
    "# get_active_excel(\"testfile.xlsx\")"
   ]
  },
  {
   "cell_type": "code",
   "execution_count": null,
   "metadata": {},
   "outputs": [],
   "source": []
  },
  {
   "cell_type": "code",
   "execution_count": null,
   "metadata": {},
   "outputs": [],
   "source": []
  },
  {
   "cell_type": "code",
   "execution_count": null,
   "metadata": {},
   "outputs": [],
   "source": []
  },
  {
   "cell_type": "code",
   "execution_count": 505,
   "metadata": {},
   "outputs": [],
   "source": [
    "import win32com.client as win\n",
    "\n",
    "def get_sheet(sheet, file = \"testfile.xlsx\"):\n",
    "    '''\n",
    "    sheet = sheet name\n",
    "    file = default is 'main excel file', optional\n",
    "    \n",
    "    returns excel worksheet\n",
    "    '''\n",
    "    return_obj = None\n",
    "    book = None\n",
    "    for i in range(10):\n",
    "        try:\n",
    "            if win.GetActiveObject(\"Excel.Application\").Workbooks(i).Name == file:\n",
    "                return_obj = win.GetActiveObject(\"Excel.Application\").Workbooks(i)\n",
    "                book = i\n",
    "                break\n",
    "        except:\n",
    "            continue\n",
    "    for i in range(10):\n",
    "        try:\n",
    "            if win.GetActiveObject(\"Excel.Application\").Workbooks(book).Worksheets(i).name == sheet:\n",
    "                return_obj = win.GetActiveObject(\"Excel.Application\").Workbooks(book).Worksheets(i)\n",
    "                sheet = i\n",
    "        except:\n",
    "            continue\n",
    "    return return_obj\n",
    "\n",
    "def lst_unupdated_exl(json_file, var, value, var1=None, value1=None):\n",
    "    '''\n",
    "    json_data = loaded json data (load everytime before calling this function)\n",
    "    \n",
    "    returns a list of [\"isExcelUpdated\"] == False OrderNo's\n",
    "    '''\n",
    "    json_data = load_json(json_file)\n",
    "    list_return = []\n",
    "    for k, v in json_data.items():\n",
    "        if var1 == None and value1 == None:\n",
    "            if v[var] == value:\n",
    "                list_return.append(k)\n",
    "        else:\n",
    "            if v[var] == value and v[var1] == value1:\n",
    "                list_return.append(k)\n",
    "    return list_return\n",
    "\n",
    "def return_emty_cell(file_name, temp_dict, temp_lst, c=2, sheet = get_sheet(sheet = \"Just Received\")):\n",
    "    while sheet.Range(f\"{temp_dict['orderNo']}{c}\").Value != 0:\n",
    "        update_values(file_name, \n",
    "                      sheet.Range(f\"{temp_dict['orderNo']}{c}\").Value, \n",
    "                      \"status\", \n",
    "                      sheet.Range(f\"{temp_dict['status']}{c}\").Value)\n",
    "        \n",
    "        order = sheet.Range(f\"{temp_dict['orderNo']}{c}\").Value\n",
    "        move_cells(temp_lst, temp_dict, file_name, order, sheet, c)\n",
    "        \n",
    "        if sheet.Range(f\"{temp_dict['status']}{c}\").Value == None:\n",
    "            return c\n",
    "        \n",
    "        c += 1\n",
    "    return c\n",
    "\n",
    "def fill_cell(temp_lst, temp_dict, json_file, order, c, sheet = get_sheet(sheet=\"Just Received\")):\n",
    "    temp_json = load_json(json_file)\n",
    "    for i in temp_lst[1:]:\n",
    "        try:\n",
    "            sheet.Range(f\"{temp_dict[i]}{c}\").Value = temp_json[order][i]\n",
    "        except:\n",
    "            if i == \"friendly_name\":\n",
    "                sheet.Range(f\"{temp_dict[i]}{c}\").Value = order\n",
    "    reprints(json_file, temp_dict, order, c, sheet)\n",
    "                \n",
    "def reprints(json_file, temp_dict, order, c, sheet=get_sheet(sheet = \"Just Received\")):\n",
    "    temp_json = load_json(json_file)\n",
    "    if temp_json[order][\"originalPrint\"] == False:\n",
    "        previous_order = \"_\".join('7175649-00_reprint'.split(\"_\")[:-1])\n",
    "        friendly_name = '\"' + previous_order + '\"'\n",
    "        link_location = '\"' + temp_json[previous_order][\"fileDirectory\"] + '\"'\n",
    "        status = temp_json[previous_order][\"status\"]\n",
    "        formula = f'=HYPERLINK({link_location}, {friendly_name})'\n",
    "        cell_range = f\"{temp_dict['previousReprint']}{c}\" \n",
    "        sheet.Range(cell_range).Formula = formula\n",
    "        cell_range = f\"{temp_dict['previousPrintStatus']}{c}\"\n",
    "        sheet.Range(cell_range).Value = status"
   ]
  },
  {
   "cell_type": "code",
   "execution_count": 506,
   "metadata": {},
   "outputs": [
    {
     "name": "stdout",
     "output_type": "stream",
     "text": [
      "Hello, World!\n",
      "Hello, World!\n",
      "Hello, World!\n",
      "Hello, World!\n"
     ]
    }
   ],
   "source": [
    "# get_sheet(sheet = \"Just Received\").Range(\"B11:D11\").Value = (1, 2, 3)"
   ]
  },
  {
   "cell_type": "code",
   "execution_count": 507,
   "metadata": {},
   "outputs": [
    {
     "name": "stdout",
     "output_type": "stream",
     "text": [
      "Hello, World!\n",
      "Hello, World!\n",
      "Hello, World!\n",
      "Hello, World!\n",
      "Hello, World!\n",
      "Hello, World!\n",
      "Hello, World!\n",
      "Hello, World!\n"
     ]
    }
   ],
   "source": [
    "file_name = r\"C:\\Users\\0235124\\OneDrive - University of Waterloo\\Desktop\\signodeProjects\\pdfParse\\pyPDF2\\python_code\\STABLE CODE\\test\\master_pick_tickets\\master_pick_tickets.json\"\n",
    "temp_json = load_json(file_name)\n",
    "\n",
    "temp_dict = {\n",
    "        \"orderNo\" : \"A\",\n",
    "        \"status\" : \"B\",\n",
    "        \"shipTo\" : \"C\",\n",
    "        \"via\" : \"D\",\n",
    "        \"dateReceived\" : \"E\",\n",
    "        \"previousReprint\" : \"F\",\n",
    "        \"previousPrintStatus\" : \"G\",\n",
    "        \"friendly_name\" : \"H\",\n",
    "        \"fileDirectory\" : \"I\",\n",
    "        \"emailAttachment\" : \"J\",\n",
    "        }\n",
    "\n",
    "temp_lst = [\n",
    "        \"orderNo\",\n",
    "        \"status\",\n",
    "        \"shipTo\",\n",
    "        \"via\",\n",
    "        \"dateReceived\",\n",
    "        \"friendly_name\",\n",
    "        \"fileDirectory\",\n",
    "        \"emailAttachment\",\n",
    "]\n",
    "\n",
    "#Updates in \"Just Received\" sheet\n",
    "c = return_emty_cell(file_name, temp_dict, temp_lst)\n",
    "\n",
    "for order in lst_unupdated_exl(file_name, \"isExcelUpdated\", False, \"status\", \"Just Received\"):\n",
    "    update_values(file_name, order, \"isExcelUpdated\", True)\n",
    "    fill_cell(temp_lst, temp_dict, file_name, order, c)\n",
    "    c = return_emty_cell(file_name, temp_dict, temp_lst)"
   ]
  },
  {
   "cell_type": "code",
   "execution_count": 456,
   "metadata": {},
   "outputs": [],
   "source": [
    "#Updates in \"Shipped\" sheet\n",
    "c = return_emty_cell(file_name, temp_dict, temp_lst, c=2, sheet = get_sheet(sheet = \"Shipped\"))\n",
    "\n",
    "for order in lst_unupdated_exl(file_name, \"status\", \"Shipped\", \"isShippedExcelUpdated\", False):\n",
    "    update_values(file_name, order, \"isShippedExcelUpdated\", True)\n",
    "    fill_cell(temp_lst, temp_dict, file_name, order, c, sheet = get_sheet(sheet=\"Shipped\"))\n",
    "    c = return_emty_cell(file_name, temp_dict, temp_lst, c=2, sheet = get_sheet(sheet = \"Shipped\"))"
   ]
  },
  {
   "cell_type": "code",
   "execution_count": 457,
   "metadata": {},
   "outputs": [],
   "source": [
    "#updates in \"Billed\" sheet\n",
    "c = return_emty_cell(file_name, temp_dict, temp_lst, c=2, sheet = get_sheet(sheet = \"Billed\"))\n",
    "\n",
    "for order in lst_unupdated_exl(file_name, \"status\", \"Billed\", \"isBilledExcelUpdated\", False):\n",
    "    update_values(file_name, order, \"isBilledExcelUpdated\", True)\n",
    "    fill_cell(temp_lst, temp_dict, file_name, order, c, sheet = get_sheet(sheet=\"Billed\"))\n",
    "    c = return_emty_cell(file_name, temp_dict, temp_lst, c=2, sheet = get_sheet(sheet = \"Billed\"))"
   ]
  },
  {
   "cell_type": "code",
   "execution_count": null,
   "metadata": {},
   "outputs": [],
   "source": []
  },
  {
   "cell_type": "code",
   "execution_count": 420,
   "metadata": {},
   "outputs": [],
   "source": [
    "temp_name = {\"718345-00_reprint\" : {\"status\" : \"Just Received\", \"originalPrint\" : False},\n",
    "\"718345-00\" : {\"status\" : \"Just Received\", \"originalPrint\" : True}}"
   ]
  },
  {
   "cell_type": "code",
   "execution_count": null,
   "metadata": {},
   "outputs": [],
   "source": []
  },
  {
   "cell_type": "code",
   "execution_count": 194,
   "metadata": {},
   "outputs": [],
   "source": [
    "def reprints(temp_json, temp_dict, order, sheet=get_sheet(sheet = \"Just Received\"), c=2):\n",
    "    if temp_json[order][\"originalPrint\"] == False:\n",
    "        previous_order = \"_\".join('7175649-00_reprint'.split(\"_\")[:-1])\n",
    "        friendly_name = '\"' + previous_order + '\"'\n",
    "        link_location = '\"' + temp_json[previous_order][\"fileDirectory\"] + '\"'\n",
    "        status = temp_json[previous_order][\"status\"]\n",
    "        formula = f'=HYPERLINK({link_location}, {friendly_name})'\n",
    "        cell_range = f\"{temp_dict['previousReprint']}{c}\" \n",
    "        sheet.Range(cell_range).Formula = formula\n",
    "        cell_range = f\"{temp_dict['previousPrintStatus']}{c}\"\n",
    "        sheet.Range(cell_range).Value = temp_json[previous_order][\"status\"] "
   ]
  },
  {
   "cell_type": "code",
   "execution_count": 359,
   "metadata": {},
   "outputs": [],
   "source": [
    "temp_json = load_json(file_name)"
   ]
  },
  {
   "cell_type": "code",
   "execution_count": 186,
   "metadata": {},
   "outputs": [],
   "source": [
    "reprints(temp_json, temp_dict, \"7175649-00_reprint\")"
   ]
  },
  {
   "cell_type": "code",
   "execution_count": 360,
   "metadata": {},
   "outputs": [
    {
     "data": {
      "text/plain": [
       "{'7175649-00': {'dateReceived': '2021-02-15 13:29:07.139289',\n",
       "  'originalPrint': True,\n",
       "  'reprintDate': None,\n",
       "  'emailAttachment': 'C:\\\\Users\\\\0235124\\\\OneDrive - University of Waterloo\\\\Desktop\\\\signodeProjects\\\\pdfParse\\\\pyPDF2\\\\python_code\\\\STABLE CODE\\\\test\\\\email_archive\\\\pick_ticket_5_pages(7175649-00).pdf',\n",
       "  'shipTo': 'Eacom Timber CorporationHWY',\n",
       "  'via': 'Manitoulin',\n",
       "  'fileDirectory': 'C:\\\\Users\\\\0235124\\\\OneDrive - University of Waterloo\\\\Desktop\\\\signodeProjects\\\\pdfParse\\\\pyPDF2\\\\python_code\\\\STABLE CODE\\\\test\\\\master_pick_tickets\\\\7175649-00.pdf',\n",
       "  'status': 'Just Received',\n",
       "  'shippedDate': '2021-02-15 13:50:14.425219',\n",
       "  'billedDate': None,\n",
       "  'isExcelUpdated': True,\n",
       "  'isShippedExcelUpdated': False,\n",
       "  'isBilledExcelUpdated': False}}"
      ]
     },
     "execution_count": 360,
     "metadata": {},
     "output_type": "execute_result"
    }
   ],
   "source": [
    "temp_json"
   ]
  },
  {
   "cell_type": "code",
   "execution_count": 146,
   "metadata": {},
   "outputs": [
    {
     "data": {
      "text/plain": [
       "'Just Received'"
      ]
     },
     "execution_count": 146,
     "metadata": {},
     "output_type": "execute_result"
    }
   ],
   "source": [
    "get_sheet('Just Received', file = \"testfile.xlsx\").Name"
   ]
  },
  {
   "cell_type": "code",
   "execution_count": 178,
   "metadata": {},
   "outputs": [],
   "source": [
    "if temp_json['7175649-00_reprint'][\"originalPrint\"] == False:\n",
    "    previous_order = \"_\".join('7175649-00_reprint'.split(\"_\")[:-1])\n",
    "    friendly_name = '\"' + previous_order + '\"'\n",
    "    link_location = '\"' + temp_json[previous_order][\"fileDirectory\"] + '\"'\n",
    "    status = temp_json[previous_order][\"status\"]\n",
    "    formula = f'=HYPERLINK({link_location}, {friendly_name})'\n",
    "    get_sheet(\"Just Received\").Range(f\"{temp_dict['previousReprint']}{c}\").Formula = formula"
   ]
  },
  {
   "cell_type": "code",
   "execution_count": 218,
   "metadata": {},
   "outputs": [],
   "source": [
    "temp_json = load_json(file_name)\n",
    "temp = lst_unupdated_exl(temp_json, \"status\", \"Shipped\")"
   ]
  },
  {
   "cell_type": "code",
   "execution_count": 220,
   "metadata": {},
   "outputs": [
    {
     "data": {
      "text/plain": [
       "['7175649-00', '7175649-00_reprint']"
      ]
     },
     "execution_count": 220,
     "metadata": {},
     "output_type": "execute_result"
    }
   ],
   "source": [
    "temp"
   ]
  },
  {
   "cell_type": "code",
   "execution_count": 440,
   "metadata": {},
   "outputs": [],
   "source": [
    "c = return_emty_cell(file_name, temp_dict, temp_lst, c=2, sheet = get_sheet(sheet = \"Shipped\"))\n",
    "\n",
    "\n",
    "for order in lst_unupdated_exl(file_name, \"status\", \"Shipped\", \"isShippedExcelUpdated\", False):\n",
    "    update_values(file_name, order, \"isShippedExcelUpdated\", True)\n",
    "    fill_cell(temp_lst, temp_dict, file_name, order, c, sheet = get_sheet(sheet=\"Shipped\"))\n",
    "    c = return_emty_cell(file_name, temp_dict, temp_lst, c=2, sheet = get_sheet(sheet = \"Shipped\"))"
   ]
  },
  {
   "cell_type": "code",
   "execution_count": 428,
   "metadata": {},
   "outputs": [],
   "source": [
    "from datetime import datetime\n",
    "    \n",
    "\n",
    "def move_cells(temp_lst, temp_dict, file_name, order, sheet, c):\n",
    "    json_data = load_json(file_name)\n",
    "    \n",
    "    # for sheet \"Just Received\"\n",
    "    if sheet.Name == \"Just Received\":\n",
    "        # user entered \"Shipped\"\n",
    "        if json_data[order][\"status\"] == \"Shipped\":\n",
    "            update_values(file_name, \n",
    "                          order, \n",
    "                          \"shippedDate\", \n",
    "                            str(datetime.now()))\n",
    "            update_values(file_name, \n",
    "                          order,\n",
    "                         \"isExcelUpdated\",\n",
    "                         False)\n",
    "            update_values(file_name, \n",
    "                         order, \n",
    "                         \"isBilledExcelUpdated\",\n",
    "                         False)\n",
    "            for i in temp_lst[1:]:\n",
    "                try:\n",
    "                    if i == \"shipTo\":\n",
    "                        sheet.Range(f\"{temp_dict[i]}{c}\").Value = \"Moved to 'Shipped'\"\n",
    "                    elif i == \"via\":\n",
    "                        sheet.Range(f\"{temp_dict[i]}{c}\").Value = sheet.Range(f\"{temp_dict['orderNo']}{c}\").Value\n",
    "                    else:\n",
    "                        sheet.Range(f\"{temp_dict[i]}{c}\").Value = None\n",
    "                except:\n",
    "                    print(\"cannot empty cells\")\n",
    "                    \n",
    "        # user entered \"Billed\"\n",
    "        if json_data[order][\"status\"] == \"Billed\":\n",
    "            update_values(file_name, \n",
    "                          order, \n",
    "                          \"billedDate\", \n",
    "                            str(datetime.now()))\n",
    "            update_values(file_name, \n",
    "                          order,\n",
    "                         \"isExcelUpdated\",\n",
    "                         False)\n",
    "            update_values(file_name, \n",
    "                         order, \n",
    "                         \"isShippedExcelUpdated\",\n",
    "                         False)\n",
    "            for i in temp_lst[1:]:\n",
    "                try:\n",
    "                    if i == \"shipTo\":\n",
    "                        sheet.Range(f\"{temp_dict[i]}{c}\").Value = \"Moved to 'Billed'\"\n",
    "                    elif i == \"via\":\n",
    "                        sheet.Range(f\"{temp_dict[i]}{c}\").Value = sheet.Range(f\"{temp_dict['orderNo']}{c}\").Value\n",
    "                    else:\n",
    "                        sheet.Range(f\"{temp_dict[i]}{c}\").Value = None\n",
    "                except:\n",
    "                    print(\"cannot empty cells\")\n",
    "    \n",
    "    # for sheet \"Shipped\"\n",
    "    elif sheet.Name == \"Shipped\":\n",
    "        # user entered \"Billed\"\n",
    "        if json_data[order][\"status\"] == \"Billed\":\n",
    "            update_values(file_name, \n",
    "                          order, \n",
    "                          \"billedDate\", \n",
    "                            str(datetime.now()))\n",
    "            update_values(file_name, \n",
    "                          order,\n",
    "                         \"isExcelUpdated\",\n",
    "                         False)\n",
    "            update_values(file_name, \n",
    "                         order, \n",
    "                         \"isShippedExcelUpdated\",\n",
    "                         False)\n",
    "            for i in temp_lst[1:]:\n",
    "                try:\n",
    "                    if i == \"shipTo\":\n",
    "                        sheet.Range(f\"{temp_dict[i]}{c}\").Value = \"Moved to 'Billed'\"\n",
    "                    elif i == \"via\":\n",
    "                        sheet.Range(f\"{temp_dict[i]}{c}\").Value = sheet.Range(f\"{temp_dict['orderNo']}{c}\").Value\n",
    "                    else:\n",
    "                        sheet.Range(f\"{temp_dict[i]}{c}\").Value = None\n",
    "                except:\n",
    "                    print(\"cannot empty cells\")\n",
    "            \n",
    "        # user entered \"Just Received\"\n",
    "        if json_data[order][\"status\"] == \"Just Received\":\n",
    "            update_values(file_name, \n",
    "                          order, \n",
    "                          \"shippedDate\", \n",
    "                            None)\n",
    "            update_values(file_name, \n",
    "                          order,\n",
    "                         \"isBilledExcelUpdated\",\n",
    "                         False)\n",
    "            update_values(file_name, \n",
    "                         order, \n",
    "                         \"isShippedExcelUpdated\",\n",
    "                         False)\n",
    "            for i in temp_lst[1:]:\n",
    "                try:\n",
    "                    if i == \"shipTo\":\n",
    "                        sheet.Range(f\"{temp_dict[i]}{c}\").Value = \"Moved back to 'Just Received'\"\n",
    "                    elif i == \"via\":\n",
    "                        sheet.Range(f\"{temp_dict[i]}{c}\").Value = sheet.Range(f\"{temp_dict['orderNo']}{c}\").Value\n",
    "                    else:\n",
    "                        sheet.Range(f\"{temp_dict[i]}{c}\").Value = None\n",
    "                except:\n",
    "                    print(\"cannot empty cells\")\n",
    "    \n",
    "    # for sheet \"Billed\"\n",
    "    elif sheet.Name == \"Billed\":\n",
    "        # user entered \"Shipped\"\n",
    "        if json_data[order][\"status\"] == \"Shipped\":\n",
    "            update_values(file_name, \n",
    "                          order, \n",
    "                          \"billedDate\", \n",
    "                            None)\n",
    "            update_values(file_name, \n",
    "                          order,\n",
    "                         \"isExcelUpdated\",\n",
    "                         False)\n",
    "            update_values(file_name, \n",
    "                         order, \n",
    "                         \"isBilledExcelUpdated\",\n",
    "                         False)\n",
    "            for i in temp_lst[1:]:\n",
    "                try:\n",
    "                    if i == \"shipTo\":\n",
    "                        sheet.Range(f\"{temp_dict[i]}{c}\").Value = \"Moved back to 'Shipped'\"\n",
    "                    elif i == \"via\":\n",
    "                        sheet.Range(f\"{temp_dict[i]}{c}\").Value = sheet.Range(f\"{temp_dict['orderNo']}{c}\").Value\n",
    "                    else:\n",
    "                        sheet.Range(f\"{temp_dict[i]}{c}\").Value = None\n",
    "                except:\n",
    "                    print(\"cannot empty cells\")\n",
    "            \n",
    "        # user entered \"Just Received\"\n",
    "        if json_data[order][\"status\"] == \"Just Received\":\n",
    "            update_values(file_name, \n",
    "                          order, \n",
    "                          \"billedDate\", \n",
    "                            None)\n",
    "            update_values(file_name, \n",
    "                          order, \n",
    "                          \"shippedDate\", \n",
    "                            None)\n",
    "            update_values(file_name, \n",
    "                          order,\n",
    "                         \"isBilledExcelUpdated\",\n",
    "                         False)\n",
    "            update_values(file_name, \n",
    "                         order, \n",
    "                         \"isShippedExcelUpdated\",\n",
    "                         False)\n",
    "            for i in temp_lst[1:]:\n",
    "                try:\n",
    "                    if i == \"shipTo\":\n",
    "                        sheet.Range(f\"{temp_dict[i]}{c}\").Value = \"Moved back to 'Just Received'\"\n",
    "                    elif i == \"via\":\n",
    "                        sheet.Range(f\"{temp_dict[i]}{c}\").Value = sheet.Range(f\"{temp_dict['orderNo']}{c}\").Value\n",
    "                    else:\n",
    "                        sheet.Range(f\"{temp_dict[i]}{c}\").Value = None\n",
    "                except:\n",
    "                    print(\"cannot empty cells\")"
   ]
  },
  {
   "cell_type": "code",
   "execution_count": 364,
   "metadata": {},
   "outputs": [
    {
     "data": {
      "text/plain": [
       "3"
      ]
     },
     "execution_count": 364,
     "metadata": {},
     "output_type": "execute_result"
    }
   ],
   "source": []
  },
  {
   "cell_type": "code",
   "execution_count": 437,
   "metadata": {},
   "outputs": [],
   "source": [
    "c = return_emty_cell(file_name, temp_dict, temp_lst, c=2, sheet = get_sheet(sheet = \"Billed\"))\n",
    "\n",
    "\n",
    "for order in lst_unupdated_exl(file_name, \"status\", \"Billed\", \"isBilledExcelUpdated\", False):\n",
    "    update_values(file_name, order, \"isBilledExcelUpdated\", True)\n",
    "    fill_cell(temp_lst, temp_dict, file_name, order, c, sheet = get_sheet(sheet=\"Billed\"))\n",
    "    c = return_emty_cell(file_name, temp_dict, temp_lst, c=2, sheet = get_sheet(sheet = \"Billed\"))"
   ]
  },
  {
   "cell_type": "code",
   "execution_count": null,
   "metadata": {},
   "outputs": [],
   "source": []
  },
  {
   "cell_type": "code",
   "execution_count": null,
   "metadata": {},
   "outputs": [],
   "source": []
  },
  {
   "cell_type": "code",
   "execution_count": null,
   "metadata": {},
   "outputs": [],
   "source": []
  }
 ],
 "metadata": {
  "kernelspec": {
   "display_name": "Python 3",
   "language": "python",
   "name": "python3"
  },
  "language_info": {
   "codemirror_mode": {
    "name": "ipython",
    "version": 3
   },
   "file_extension": ".py",
   "mimetype": "text/x-python",
   "name": "python",
   "nbconvert_exporter": "python",
   "pygments_lexer": "ipython3",
   "version": "3.8.5"
  }
 },
 "nbformat": 4,
 "nbformat_minor": 4
}
