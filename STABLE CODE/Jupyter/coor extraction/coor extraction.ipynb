{
 "cells": [
  {
   "cell_type": "markdown",
   "metadata": {},
   "source": [
    "# pdfquery"
   ]
  },
  {
   "cell_type": "code",
   "execution_count": 779,
   "metadata": {},
   "outputs": [],
   "source": [
    "import pdfquery\n",
    "import xml.etree.ElementTree as ET"
   ]
  },
  {
   "cell_type": "code",
   "execution_count": 780,
   "metadata": {},
   "outputs": [],
   "source": [
    "test_file = r\"C:\\Users\\0235124\\OneDrive - University of Waterloo\\Desktop\\signodeProjects\\pdfParse\\pyPDF2\\python_code\\STABLE CODE\\Jupyter\\coor extraction\\test files\\822444_000008_po41062673_10192020_000001.pdf\"\n",
    "pdf = pdfquery.PDFQuery(test_file)\n",
    "pdf.load()"
   ]
  },
  {
   "cell_type": "code",
   "execution_count": 781,
   "metadata": {},
   "outputs": [],
   "source": [
    "import os \n",
    "\n",
    "temp_xml = r\"C:\\Users\\0235124\\OneDrive - University of Waterloo\\Desktop\\signodeProjects\\pdfParse\\pyPDF2\\python_code\\STABLE CODE\\Jupyter\\coor extraction\\test2.xml\"\n",
    "\n",
    "if not os.path.exists(temp_xml):\n",
    "    pdf.tree.write(\"test2.xml\", pretty_print=True, encoding='utf-8')"
   ]
  },
  {
   "cell_type": "code",
   "execution_count": 782,
   "metadata": {},
   "outputs": [],
   "source": [
    "def lst(text):\n",
    "    try:\n",
    "        text = text[1:-1] #remove '[]' from original text\n",
    "        text = text.split(',')\n",
    "        text = [float(x) for x in text]\n",
    "    except Exception as e:\n",
    "        print(f'error for {text} in def lst --- {e}')\n",
    "    return text\n",
    "\n",
    "def islist(text):\n",
    "    if text.startswith('[') and text.endswith(']'):\n",
    "        return lst(text)\n",
    "    \n",
    "def get_attr(page, text, arg):\n",
    "    k = 'test'\n",
    "    page_tag = f\"LTPage[pageid=\\'{page}\\']\"\n",
    "    text_tag = f\"LTTextLineHorizontal:contains('{text}')\"\n",
    "    \n",
    "    temp_lst = []\n",
    "    temp_lst.append(tuple(['with_parent', page_tag]))\n",
    "    \n",
    "    temp_lst.append(tuple([f'{k}', text_tag]))\n",
    "    ret = pdf.extract(temp_lst)[f'{k}']\n",
    "    if len(ret) > 0:\n",
    "        ret = ret[0]\n",
    "        if arg == 'bbox':\n",
    "            ret = lst(ret.attrib['bbox'])\n",
    "        else:\n",
    "            ret = ret.attrib[f'{arg}']\n",
    "    else:\n",
    "        print(f'no text matches found for \"{text}\"')\n",
    "    return ret"
   ]
  },
  {
   "cell_type": "code",
   "execution_count": 783,
   "metadata": {},
   "outputs": [],
   "source": [
    "def get_area(page, x0, y0, x1, y1, overlap=False):\n",
    "    \n",
    "    page_tag = f\"LTPage[pageid=\\'{page}\\']\"\n",
    "    if overlap == False:\n",
    "        area_tag = f\"LTTextLineHorizontal:in_bbox('{x0}, {y0}, {x1}, {y1}')\"\n",
    "    elif overlap == True:\n",
    "        area_tag = f\"LTTextLineHorizontal:overlaps_bbox('{x0}, {y0}, {x1}, {y1}')\"\n",
    "    \n",
    "    temp_lst = []\n",
    "    temp_lst.append(tuple(['with_parent', page_tag]))\n",
    "    temp_lst.append(tuple(['test', area_tag]))\n",
    "    ret = pdf.extract(temp_lst)['test']\n",
    "    ret_data = {}\n",
    "    ret_data['list'] = ret\n",
    "    text = \"<pdfxml temp_root = 'True'>\" + str(ret) + \"</pdfxml>\"\n",
    "    ret_root = ET.fromstring(text)\n",
    "    ret_data['xmltext'] = ret_root\n",
    "    \n",
    "    \n",
    "    return ret_data\n",
    "\n",
    "def bbox(ele):\n",
    "    '''\n",
    "    bbox each xml line in ret_data['xmltext']\n",
    "    '''\n",
    "    ret_data = {'bbox':[], 'text':None}\n",
    "    if len(ele) == 0:\n",
    "        try:\n",
    "            if 'bbox' in ele.attrib:\n",
    "                ret_data = {'bbox':lst(ele.attrib['bbox']), 'text':ele.text.strip()}\n",
    "        except Exception as e:\n",
    "            print(f'error occured \"{e}\" in def bbox')\n",
    "        return ret_data\n",
    "    for i in ele:\n",
    "        return bbox(i)\n",
    "    \n",
    "def get_set(lst):\n",
    "    temp_set = []\n",
    "    for i in range(len(lst)-1):\n",
    "        a, b = lst[i], lst[i+1]\n",
    "        if i == 0:\n",
    "            temp_set.append(a)\n",
    "        else:\n",
    "            if a != b:\n",
    "                temp_set.append(b)\n",
    "    return temp_set\n",
    "\n",
    "def get_row_data(page_width, page, y0, y1):\n",
    "    lst = []\n",
    "    for i in range(page_width):\n",
    "        current = bbox(get_area(page, i, y0, i+10, y1, overlap=True)['xmltext'])\n",
    "        lst.append(current['text'])\n",
    "    return get_set(lst)"
   ]
  },
  {
   "cell_type": "code",
   "execution_count": 876,
   "metadata": {},
   "outputs": [],
   "source": [
    "\n",
    "\n",
    "target = get_area(1, 4.8, 58.56, 42.62, 509.04, overlap=True)\n",
    "main_dict = {}\n",
    "for i, item in enumerate(target['xmltext']):\n",
    "    temp_dict = {'sx no': None, 'qty': None}\n",
    "    temp = bbox(item)\n",
    "    try:\n",
    "        if temp['text'].isdigit() and int(temp['text']) in range(100):# check for intergers only\n",
    "            y0, y1 = temp['bbox'][1], temp['bbox'][3]\n",
    "            temp_dict['sx no'] = bbox(target['xmltext'][i+1])['text']\n",
    "            main_dict[int(temp['text'])] = temp_dict\n",
    "#             print(get_row_data(792, 1, y0, y1))\n",
    "#             print(y0, y1)\n",
    "    except Exception as e:\n",
    "        print(e)\n",
    "        \n",
    "#     try:\n",
    "#         if target['text'].isdigit():\n",
    "#             y0, y1 = target['bbox'][1], target['bbox'][3]\n",
    "#             try:\n",
    "#                 print(get_row_data(792, 1, y0, y1))\n",
    "#             except Exception as e:\n",
    "#                 print(e)\n",
    "#     except Exception as e:\n",
    "#         print(e)"
   ]
  },
  {
   "cell_type": "code",
   "execution_count": 830,
   "metadata": {},
   "outputs": [
    {
     "data": {
      "text/plain": [
       "{1: {'sx no': '076310', 'qty': None},\n",
       " 2: {'sx no': '089370', 'qty': None},\n",
       " 3: {'sx no': 'AB33-120X144MAYNE', 'qty': None},\n",
       " 4: {'sx no': 'MIP-420 58', 'qty': None},\n",
       " 5: {'sx no': 'MIP-1120 34', 'qty': None},\n",
       " 6: {'sx no': 'HI1300', 'qty': None},\n",
       " 7: {'sx no': 'M12350WH9', 'qty': None},\n",
       " 8: {'sx no': '2X2237', 'qty': None}}"
      ]
     },
     "execution_count": 830,
     "metadata": {},
     "output_type": "execute_result"
    }
   ],
   "source": [
    "# {'line': None, 'sx no':None, 'qty':None}\n",
    "main_dict"
   ]
  },
  {
   "cell_type": "code",
   "execution_count": 875,
   "metadata": {},
   "outputs": [],
   "source": [
    "for i in range(94):\n",
    "    current = bbox(get_area(1, i, 241.032, i+10, 253.032, overlap=True)['xmltext'])\n",
    "#     lst.append(current['text'])\n",
    "#     print(current)"
   ]
  },
  {
   "cell_type": "code",
   "execution_count": 853,
   "metadata": {},
   "outputs": [
    {
     "name": "stdout",
     "output_type": "stream",
     "text": [
      "{'bbox': [343.92, 498.96, 373.38, 504.96], 'text': 'MEASURE'}\n",
      "{'bbox': [57.6, 481.032, 93.6, 493.032], 'text': '1,200'}\n",
      "{'bbox': [7.2, 457.032, 50.4, 469.032], 'text': '076310'}\n",
      "{'bbox': [0.0, 445.032, 590.4, 457.032], 'text': '----------------------------------------------------------------------------------'}\n",
      "{'bbox': [57.6, 433.032, 93.6, 445.032], 'text': '1,800'}\n",
      "{'bbox': [7.2, 409.032, 50.4, 421.032], 'text': '089370'}\n",
      "{'bbox': [0.0, 397.032, 590.4, 409.032], 'text': '----------------------------------------------------------------------------------'}\n",
      "{'bbox': [57.6, 385.032, 93.6, 397.032], 'text': '7,680'}\n",
      "{'bbox': [7.2, 361.032, 129.6, 373.032], 'text': 'AB33-120X144MAYNE'}\n",
      "{'bbox': [0.0, 349.032, 590.4, 361.032], 'text': '----------------------------------------------------------------------------------'}\n",
      "{'bbox': [86.4, 337.032, 93.6, 349.032], 'text': '1'}\n",
      "{'bbox': [7.2, 313.032, 79.2, 325.032], 'text': 'MIP-420 58'}\n",
      "{'bbox': [0.0, 301.032, 590.4, 313.032], 'text': '----------------------------------------------------------------------------------'}\n",
      "{'bbox': [86.4, 289.032, 93.6, 301.032], 'text': '4'}\n",
      "{'bbox': [7.2, 265.032, 86.4, 277.032], 'text': 'MIP-1120 34'}\n",
      "{'bbox': [0.0, 253.032, 590.4, 265.032], 'text': '----------------------------------------------------------------------------------'}\n",
      "{'bbox': [86.4, 241.032, 93.6, 253.032], 'text': '1'}\n",
      "{'bbox': [7.2, 217.032, 50.4, 229.032], 'text': 'HI1300'}\n",
      "{'bbox': [0.0, 205.032, 590.4, 217.032], 'text': '----------------------------------------------------------------------------------'}\n",
      "{'bbox': [79.2, 193.032, 93.6, 205.032], 'text': '30'}\n",
      "{'bbox': [7.2, 169.032, 72.0, 181.032], 'text': 'M12350WH9'}\n",
      "{'bbox': [0.0, 157.032, 590.4, 169.032], 'text': '----------------------------------------------------------------------------------'}\n",
      "{'bbox': [79.2, 145.032, 93.6, 157.032], 'text': '48'}\n",
      "{'bbox': [7.2, 121.032, 50.4, 133.032], 'text': '2X2237'}\n"
     ]
    }
   ],
   "source": [
    "for ele in get_area(1, 50.4, 133.032, 93.6, 493.032, overlap=True)['xmltext']:\n",
    "    print(bbox(ele))"
   ]
  },
  {
   "cell_type": "code",
   "execution_count": 897,
   "metadata": {},
   "outputs": [
    {
     "data": {
      "text/plain": [
       "{'bbox': [57.6, 481.032, 93.6, 493.032], 'text': '1,200'}"
      ]
     },
     "execution_count": 897,
     "metadata": {},
     "output_type": "execute_result"
    }
   ],
   "source": [
    "def get_row_data(page_width, page, y0, y1):\n",
    "    lst = []\n",
    "    for i in range(page_width):\n",
    "        current = bbox(get_area(page, i, y0, i+10, y1, overlap=True)['xmltext'])\n",
    "        lst.append(current['text'])\n",
    "    return get_set(lst)\n",
    "\n",
    "# test_lst = []\n",
    "# for i in range(96):\n",
    "#     test_lst.append(get_area(1, i, 48, i+10, 493.032, overlap=True)['xmltext'])\n",
    "\n",
    "bbox(get_area(1, 57.6, 481.032, 93.6, 493.032, overlap=True)['xmltext'][1])"
   ]
  },
  {
   "cell_type": "code",
   "execution_count": 874,
   "metadata": {},
   "outputs": [
    {
     "name": "stdout",
     "output_type": "stream",
     "text": [
      "---------------------------------------------------------------------------------- \n",
      "None\n"
     ]
    }
   ],
   "source": [
    "for i in iter(test_lst[57]):\n",
    "    print(i.text)"
   ]
  },
  {
   "cell_type": "code",
   "execution_count": 784,
   "metadata": {},
   "outputs": [
    {
     "data": {
      "text/plain": [
       "<LTPage(3) 0.000,0.000,612.000,792.000 rotate=0>"
      ]
     },
     "execution_count": 784,
     "metadata": {},
     "output_type": "execute_result"
    }
   ],
   "source": [
    "pdf.get_layout(0)"
   ]
  },
  {
   "cell_type": "code",
   "execution_count": null,
   "metadata": {},
   "outputs": [],
   "source": [
    "ele = get_area(1, float(get_attr(1, 'Last page', 'x0')), float(get_attr(1, 'Last page', 'y0')), float(get_attr(1, 'Line', 'x1')), float(get_attr(1, 'Line', 'y1')))\n",
    "for tag in ele['xmltext']:\n",
    "#     print(lst(bbox(tag)['bbox']))\n",
    "    target = bbox(tag)\n",
    "    try:\n",
    "        if target['text'].isdigit():\n",
    "            y0, y1 = target['bbox'][1], target['bbox'][3]\n",
    "            try:\n",
    "                print(get_row_data(792, 1, y0, y1))\n",
    "            except Exception as e:\n",
    "                print(e)\n",
    "    except Exception as e:\n",
    "        print(e)"
   ]
  },
  {
   "cell_type": "markdown",
   "metadata": {},
   "source": [
    "## load xml file "
   ]
  },
  {
   "cell_type": "code",
   "execution_count": 810,
   "metadata": {},
   "outputs": [
    {
     "ename": "NameError",
     "evalue": "name 'this' is not defined",
     "output_type": "error",
     "traceback": [
      "\u001b[1;31m---------------------------------------------------------------------------\u001b[0m",
      "\u001b[1;31mNameError\u001b[0m                                 Traceback (most recent call last)",
      "\u001b[1;32m<ipython-input-810-0e2d4ad04dc0>\u001b[0m in \u001b[0;36m<module>\u001b[1;34m\u001b[0m\n\u001b[1;32m----> 1\u001b[1;33m \u001b[0mtuple\u001b[0m\u001b[1;33m(\u001b[0m\u001b[0mthis\u001b[0m\u001b[1;33m)\u001b[0m\u001b[1;33m\u001b[0m\u001b[1;33m\u001b[0m\u001b[0m\n\u001b[0m",
      "\u001b[1;31mNameError\u001b[0m: name 'this' is not defined"
     ]
    }
   ],
   "source": []
  },
  {
   "cell_type": "code",
   "execution_count": 722,
   "metadata": {},
   "outputs": [],
   "source": [
    "# test = pdf.extract([\n",
    "#     ('with_parent', 'LTPage[pageid=\\'1\\']'),\n",
    "# #     ('with_formatter', 'text'),\n",
    "#     ('order no', 'LTTextLineHorizontal:in_bbox(\"1000, 450, 1000, 560\")'),\n",
    "#     # ('test', 'LTTextLineHorizontal:contains(\"Order #\")'),\n",
    "# #     ('test', 'LTTextLineHorizontal:contains(\"Line\")'),\n",
    "# ])"
   ]
  },
  {
   "cell_type": "code",
   "execution_count": 726,
   "metadata": {},
   "outputs": [],
   "source": [
    "# test"
   ]
  },
  {
   "cell_type": "code",
   "execution_count": 670,
   "metadata": {},
   "outputs": [],
   "source": [
    "# test_str = str(test['order no'])\n",
    "# temp = \"<pdfxml temp_root = 'True'>\" + test_str + \"</pdfxml>\"\n",
    "# temp"
   ]
  },
  {
   "cell_type": "code",
   "execution_count": 671,
   "metadata": {},
   "outputs": [],
   "source": [
    "# root = ET.fromstring(temp)"
   ]
  },
  {
   "cell_type": "code",
   "execution_count": 672,
   "metadata": {},
   "outputs": [],
   "source": [
    "# root.attrib"
   ]
  },
  {
   "cell_type": "code",
   "execution_count": 673,
   "metadata": {},
   "outputs": [],
   "source": [
    "# for child in root:\n",
    "#     print(child.tag, child.attrib, child.text, '\\n')\n",
    "#     if child.text == None:\n",
    "#         try:\n",
    "#             print(child[0].text)\n",
    "#         except:\n",
    "#             print('fail')"
   ]
  },
  {
   "cell_type": "code",
   "execution_count": 674,
   "metadata": {},
   "outputs": [],
   "source": [
    "# for tag in root.iter('LTTextBoxHorizontal'):\n",
    "#     print(tag.attrib, '\\n', tag.text.strip())"
   ]
  },
  {
   "cell_type": "code",
   "execution_count": 675,
   "metadata": {},
   "outputs": [],
   "source": [
    "# line = pdf.pq('LTPage[pageid=\\'1\\'] LTTextLineHorizontal:contains(\"Line\")')"
   ]
  },
  {
   "cell_type": "code",
   "execution_count": 676,
   "metadata": {},
   "outputs": [],
   "source": [
    "# if len(line) > 0:\n",
    "#     line = line[0]\n",
    "# else:\n",
    "#     print('text not found')"
   ]
  },
  {
   "cell_type": "code",
   "execution_count": 677,
   "metadata": {},
   "outputs": [],
   "source": [
    "def lst(text):\n",
    "    try:\n",
    "        text = text[1:-1] #remove '[]' from original text\n",
    "        text = text.split(',')\n",
    "        text = [float(x) for x in text]\n",
    "    except Exception as e:\n",
    "        print(f'error for {text} in def lst --- {e}')\n",
    "    return text"
   ]
  },
  {
   "cell_type": "code",
   "execution_count": 678,
   "metadata": {},
   "outputs": [],
   "source": [
    "# lst(line.attrib['bbox'])"
   ]
  },
  {
   "cell_type": "code",
   "execution_count": 679,
   "metadata": {},
   "outputs": [],
   "source": [
    "def islist(text):\n",
    "    if text.startswith('[') and text.endswith(']'):\n",
    "        return lst(text)\n",
    "    \n",
    "def get_attr(page, text, arg):\n",
    "    k = 'test'\n",
    "    page_tag = f\"LTPage[pageid=\\'{page}\\']\"\n",
    "    text_tag = f\"LTTextLineHorizontal:contains('{text}')\"\n",
    "    \n",
    "    temp_lst = []\n",
    "    temp_lst.append(tuple(['with_parent', page_tag]))\n",
    "    \n",
    "    temp_lst.append(tuple([f'{k}', text_tag]))\n",
    "    ret = pdf.extract(temp_lst)[f'{k}']\n",
    "    if len(ret) > 0:\n",
    "        ret = ret[0]\n",
    "        if arg == 'bbox':\n",
    "            ret = lst(ret.attrib['bbox'])\n",
    "        else:\n",
    "            ret = ret.attrib[f'{arg}']\n",
    "    else:\n",
    "        print(f'no text matches found for \"{text}\"')\n",
    "    return ret\n"
   ]
  },
  {
   "cell_type": "code",
   "execution_count": 680,
   "metadata": {},
   "outputs": [],
   "source": [
    "# get_attr(1, 'Line', 'x1')"
   ]
  },
  {
   "cell_type": "code",
   "execution_count": 681,
   "metadata": {},
   "outputs": [],
   "source": [
    "# get_attr(1, 'Line', 'y1')"
   ]
  },
  {
   "cell_type": "code",
   "execution_count": 682,
   "metadata": {},
   "outputs": [],
   "source": [
    "# get_attr(1, 'Last page', 'x0')"
   ]
  },
  {
   "cell_type": "code",
   "execution_count": 683,
   "metadata": {},
   "outputs": [],
   "source": [
    "# get_attr(1, 'Last page', 'y0')"
   ]
  },
  {
   "cell_type": "code",
   "execution_count": 684,
   "metadata": {},
   "outputs": [],
   "source": [
    "def get_area(page, x0, y0, x1, y1, overlap = False):\n",
    "    \n",
    "    page_tag = f\"LTPage[pageid=\\'{page}\\']\"\n",
    "    if overlap == False:\n",
    "        area_tag = f\"LTTextLineHorizontal:in_bbox('{x0}, {y0}, {x1}, {y1}')\"\n",
    "    elif overlap == True:\n",
    "        area_tag = f\"LTTextLineHorizontal:overlaps_bbox('{x0}, {y0}, {x1}, {y1}')\"\n",
    "    \n",
    "    temp_lst = []\n",
    "    temp_lst.append(tuple(['with_parent', page_tag]))\n",
    "    temp_lst.append(tuple(['test', area_tag]))\n",
    "    ret = pdf.extract(temp_lst)['test']\n",
    "    ret_data = {}\n",
    "    ret_data['list'] = ret\n",
    "    text = \"<pdfxml temp_root = 'True'>\" + str(ret) + \"</pdfxml>\"\n",
    "    ret_root = ET.fromstring(text)\n",
    "    ret_data['xmltext'] = ret_root\n",
    "    \n",
    "    \n",
    "    return ret_data\n",
    "\n",
    "def get_set(lst):\n",
    "    temp_set = []\n",
    "    for i in range(len(lst)-1):\n",
    "        a, b = lst[i], lst[i+1]\n",
    "        if i == 0:\n",
    "            temp_set.append(a)\n",
    "        else:\n",
    "            if a != b:\n",
    "                temp_set.append(b)\n",
    "    return temp_set\n",
    "\n",
    "def get_row_data(page_width, page, y0, y1):\n",
    "    lst = []\n",
    "    for i in range(page_width):\n",
    "        current = bbox(get_area(page, i, y0, i+10, y1, overlap=True)['xmltext'])\n",
    "        lst.append(current['text'])\n",
    "    return get_set(lst)"
   ]
  },
  {
   "cell_type": "code",
   "execution_count": 685,
   "metadata": {},
   "outputs": [],
   "source": [
    "# lol = get_area(1, 640, 450, 700, 560)"
   ]
  },
  {
   "cell_type": "code",
   "execution_count": 727,
   "metadata": {},
   "outputs": [],
   "source": [
    "ele = get_area(1, float(get_attr(1, 'Last page', 'x0')), float(get_attr(1, 'Last page', 'y0')), float(get_attr(1, 'Line', 'x1')), float(get_attr(1, 'Line', 'y1')))"
   ]
  },
  {
   "cell_type": "code",
   "execution_count": 687,
   "metadata": {
    "scrolled": true
   },
   "outputs": [],
   "source": [
    "# print(ele['xmltext'][0][0].text)"
   ]
  },
  {
   "cell_type": "code",
   "execution_count": 688,
   "metadata": {},
   "outputs": [
    {
     "data": {
      "text/plain": [
       "(467.52, 276.7, 497.52, 286.7)"
      ]
     },
     "execution_count": 688,
     "metadata": {},
     "output_type": "execute_result"
    }
   ],
   "source": [
    "467.52, 276.7, 497.52, 286.7"
   ]
  },
  {
   "cell_type": "code",
   "execution_count": null,
   "metadata": {},
   "outputs": [],
   "source": []
  },
  {
   "cell_type": "code",
   "execution_count": 689,
   "metadata": {},
   "outputs": [],
   "source": [
    "# for it in ele['xmltext']:\n",
    "#     if len(e) > 0:\n",
    "        "
   ]
  },
  {
   "cell_type": "code",
   "execution_count": 690,
   "metadata": {},
   "outputs": [],
   "source": [
    "def bbox(ele):\n",
    "    ret_data = {'bbox':[], 'text':None}\n",
    "    if len(ele) == 0:\n",
    "        try:\n",
    "            ret_data = {'bbox':lst(ele.attrib['bbox']), 'text':ele.text.strip()}\n",
    "        except Exception as e:\n",
    "#             print(f'error occured \"{e}\"')\n",
    "            pass\n",
    "#         print(ele.attrib['bbox'])\n",
    "#         ret_data['bbox'] = ele.attrib['bbox']\n",
    "#         ret_data['text'] = ele.text.strip()\n",
    "        return ret_data\n",
    "    for i in ele:\n",
    "        return bbox(i)"
   ]
  },
  {
   "cell_type": "code",
   "execution_count": 729,
   "metadata": {},
   "outputs": [
    {
     "name": "stdout",
     "output_type": "stream",
     "text": [
      "['2', '2X1460', None, '72.00', '0.00', '72.00 Coil ____________ _____', None]\n",
      "['1', '3H6X170BR', None, '21.00', '0.00', '21.00 CTN ____________ _____', None]\n"
     ]
    }
   ],
   "source": [
    "for tag in ele['list']:\n",
    "#     print(lst(bbox(tag)['bbox']))\n",
    "    target = bbox(tag)\n",
    "    try:\n",
    "        if target['text'].isdigit():\n",
    "            y0, y1 = target['bbox'][1], target['bbox'][3]\n",
    "            try:\n",
    "                print(get_row_data(792, 1, y0, y1))\n",
    "            except Exception as e:\n",
    "                print(e)\n",
    "    except Exception as e:\n",
    "        print(e)"
   ]
  },
  {
   "cell_type": "code",
   "execution_count": 638,
   "metadata": {},
   "outputs": [],
   "source": [
    "# for tag in ele['xmltext'][0]:\n",
    "# #     print(lst(bbox(tag)['bbox']))\n",
    "#     print(tag)\n",
    "#     target = bbox(tag)\n",
    "#     if target['text'].isdigit():\n",
    "#         y0, y1 = lst(target['bbox'])[1], lst(target['bbox'])[3]\n",
    "#         print(get_row_data(792, 1, y0, y1))"
   ]
  },
  {
   "cell_type": "code",
   "execution_count": 491,
   "metadata": {},
   "outputs": [],
   "source": [
    "temp = '1'"
   ]
  },
  {
   "cell_type": "code",
   "execution_count": 492,
   "metadata": {},
   "outputs": [
    {
     "data": {
      "text/plain": [
       "True"
      ]
     },
     "execution_count": 492,
     "metadata": {},
     "output_type": "execute_result"
    }
   ],
   "source": [
    "temp.isdigit()"
   ]
  },
  {
   "cell_type": "code",
   "execution_count": 493,
   "metadata": {},
   "outputs": [
    {
     "data": {
      "text/plain": [
       "{'bbox': '[34.98, 276.849, 40.518, 286.079]', 'text': '3'}"
      ]
     },
     "execution_count": 493,
     "metadata": {},
     "output_type": "execute_result"
    }
   ],
   "source": [
    "bbox(ele['xmltext'][0])"
   ]
  },
  {
   "cell_type": "code",
   "execution_count": 494,
   "metadata": {},
   "outputs": [
    {
     "data": {
      "text/plain": [
       "{'bbox': '[467.52, 276.7, 497.52, 286.7]', 'text': '40.00'}"
      ]
     },
     "execution_count": 494,
     "metadata": {},
     "output_type": "execute_result"
    }
   ],
   "source": [
    "bbox(get_area(1, 460, 276.849, 500, 286.079, overlap=True)['xmltext'])"
   ]
  },
  {
   "cell_type": "code",
   "execution_count": 495,
   "metadata": {},
   "outputs": [
    {
     "data": {
      "text/plain": [
       "<LTPage(7) 0.000,0.000,792.000,612.000 rotate=0>"
      ]
     },
     "execution_count": 495,
     "metadata": {},
     "output_type": "execute_result"
    }
   ],
   "source": [
    "pdf.get_layout(0)"
   ]
  },
  {
   "cell_type": "code",
   "execution_count": 496,
   "metadata": {},
   "outputs": [
    {
     "data": {
      "text/plain": [
       "{'bbox': '[467.52, 276.7, 497.52, 286.7]', 'text': '40.00'}"
      ]
     },
     "execution_count": 496,
     "metadata": {},
     "output_type": "execute_result"
    }
   ],
   "source": [
    "bbox(get_area(1, 467.52, 276.7, 497.52, 286.7)['xmltext'])"
   ]
  },
  {
   "cell_type": "code",
   "execution_count": 691,
   "metadata": {},
   "outputs": [],
   "source": [
    "def get_set(lst):\n",
    "    temp_set = []\n",
    "    for i in range(len(lst)-1):\n",
    "        a, b = lst[i], lst[i+1]\n",
    "        if i == 0:\n",
    "            temp_set.append(a)\n",
    "        else:\n",
    "            if a != b:\n",
    "                temp_set.append(b)\n",
    "    return temp_set\n",
    "\n",
    "def get_row_data(page_width, page, y0, y1):\n",
    "    lst = []\n",
    "    for i in range(page_width):\n",
    "        current = bbox(get_area(page, i, y0, i+50, y1, overlap=True)['xmltext'])\n",
    "        lst.append(current['text'])\n",
    "    return get_set(lst)"
   ]
  },
  {
   "cell_type": "code",
   "execution_count": 545,
   "metadata": {},
   "outputs": [
    {
     "data": {
      "text/plain": [
       "['3',\n",
       " '2X2282',\n",
       " '1 1/4 X 029 Mag Wax Only 2000# 1cl/sk Vert. w VC',\n",
       " None,\n",
       " '40.00',\n",
       " '0.00',\n",
       " '40.00 CWT ____________ _____',\n",
       " None]"
      ]
     },
     "execution_count": 545,
     "metadata": {},
     "output_type": "execute_result"
    }
   ],
   "source": [
    "temp_row = get_row_data(792, 1, 276.849, 286.079)\n",
    "temp_row"
   ]
  },
  {
   "cell_type": "code",
   "execution_count": null,
   "metadata": {},
   "outputs": [],
   "source": [
    "[34.98, 326.529, 40.518, 335.759] 1"
   ]
  },
  {
   "cell_type": "code",
   "execution_count": 551,
   "metadata": {},
   "outputs": [],
   "source": [
    "temp_row1 = get_row_data(792, 1, 325, 335.759)"
   ]
  },
  {
   "cell_type": "code",
   "execution_count": 536,
   "metadata": {},
   "outputs": [
    {
     "data": {
      "text/plain": [
       "['1',\n",
       " '005269',\n",
       " '114 P TOL Red Seals 700/ctn 25200/skid',\n",
       " '8200001749',\n",
       " None,\n",
       " '3.00',\n",
       " '0.00',\n",
       " '3.00 Ctn ____________ _____',\n",
       " None]"
      ]
     },
     "execution_count": 536,
     "metadata": {},
     "output_type": "execute_result"
    }
   ],
   "source": [
    "temp_row1"
   ]
  },
  {
   "cell_type": "code",
   "execution_count": 695,
   "metadata": {},
   "outputs": [],
   "source": [
    "tst = '''<?xml version=\"1.0\"?><data><country name=\"Liechtenstein\"><rank>1</rank><year>2008</year><gdppc>141100</gdppc><neighbor name=\"Austria\" direction=\"E\"/><neighbor name=\"Switzerland\" direction=\"W\"/></country></data>'''"
   ]
  },
  {
   "cell_type": "code",
   "execution_count": 696,
   "metadata": {},
   "outputs": [
    {
     "data": {
      "text/plain": [
       "'<?xml version=\"1.0\"?><data><country name=\"Liechtenstein\"><rank>1</rank><year>2008</year><gdppc>141100</gdppc><neighbor name=\"Austria\" direction=\"E\"/><neighbor name=\"Switzerland\" direction=\"W\"/></country></data>'"
      ]
     },
     "execution_count": 696,
     "metadata": {},
     "output_type": "execute_result"
    }
   ],
   "source": [
    "tst"
   ]
  },
  {
   "cell_type": "code",
   "execution_count": 698,
   "metadata": {},
   "outputs": [],
   "source": [
    "root = ET.fromstring(tst)"
   ]
  },
  {
   "cell_type": "code",
   "execution_count": 704,
   "metadata": {},
   "outputs": [
    {
     "name": "stdout",
     "output_type": "stream",
     "text": [
      "{'name': 'Liechtenstein'}\n",
      "pass\n"
     ]
    }
   ],
   "source": [
    "for i in root:\n",
    "    print(i.attrib)\n",
    "    if 'name' in i.attrib:\n",
    "        print('pass')"
   ]
  },
  {
   "cell_type": "code",
   "execution_count": null,
   "metadata": {},
   "outputs": [],
   "source": []
  }
 ],
 "metadata": {
  "kernelspec": {
   "display_name": "Python 3",
   "language": "python",
   "name": "python3"
  },
  "language_info": {
   "codemirror_mode": {
    "name": "ipython",
    "version": 3
   },
   "file_extension": ".py",
   "mimetype": "text/x-python",
   "name": "python",
   "nbconvert_exporter": "python",
   "pygments_lexer": "ipython3",
   "version": "3.8.5"
  }
 },
 "nbformat": 4,
 "nbformat_minor": 4
}
